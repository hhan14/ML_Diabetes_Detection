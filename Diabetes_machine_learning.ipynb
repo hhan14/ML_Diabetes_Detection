{
 "cells": [
  {
   "cell_type": "markdown",
   "metadata": {
    "deletable": true,
    "editable": true
   },
   "source": [
    "# Machine Learning with Numpy-Pandas-Scikit-learn\n",
    "- Partition the dataset into training and testing sets.\n",
    "- Used 2 different kernels (rbf and polynomial), train support vector machines to classify examples into control (0) and case (1). \n",
    "- Selected the best model for each kernel and explain  how I chose the parameters I used: kernel, soft margin(C), gamma or degree. \n",
    "- Also recorded prediction accuracy, confusion matrix and area under the ROC curve.\n",
    "\n",
    "** How I chose the best model:\n",
    "- To get a better prediction accuracy, I splited the data in folds that I useed for training and testing.\n",
    "- I coded the GridSearchCV, which uses, by defualt, a 3-fold cross-validation.\n",
    "- Before looking for which combination of parameter values produces the best accurate model, I specified the different candidate values I want to try.\n",
    "- I have a number of candidate parameter values, including three different values for C (1, 10, 100), values for degree (1, 2, 3) or for gamma (1, 'auto'), and two kernels (rbf, polynomial). I tried several combinations of parameter values and selected the set of parameters which provides the most accurate model.**"
   ]
  },
  {
   "cell_type": "code",
   "execution_count": 1,
   "metadata": {
    "collapsed": true,
    "deletable": true,
    "editable": true
   },
   "outputs": [],
   "source": [
    "import numpy as np\n",
    "import pandas as pd      # built on top of numpy\n",
    "import matplotlib as mpl\n",
    "import matplotlib.pyplot as plt\n",
    "import seaborn as sns    # built on top of matplotlib\n",
    "from pandas.api.types import CategoricalDtype # enables specifying categorical agetype below\n",
    "\n",
    "from sklearn.preprocessing import Imputer, MinMaxScaler\n",
    "from sklearn.svm import SVC\n",
    "from sklearn.metrics import confusion_matrix, accuracy_score, classification_report, roc_curve, auc\n",
    "from sklearn.model_selection import train_test_split, GridSearchCV, cross_val_score\n",
    "#import sklearn.metrics as skm"
   ]
  },
  {
   "cell_type": "code",
   "execution_count": 2,
   "metadata": {
    "collapsed": false,
    "deletable": true,
    "editable": true
   },
   "outputs": [
    {
     "data": {
      "text/html": [
       "<div>\n",
       "<style>\n",
       "    .dataframe thead tr:only-child th {\n",
       "        text-align: right;\n",
       "    }\n",
       "\n",
       "    .dataframe thead th {\n",
       "        text-align: left;\n",
       "    }\n",
       "\n",
       "    .dataframe tbody tr th {\n",
       "        vertical-align: top;\n",
       "    }\n",
       "</style>\n",
       "<table border=\"1\" class=\"dataframe\">\n",
       "  <thead>\n",
       "    <tr style=\"text-align: right;\">\n",
       "      <th></th>\n",
       "      <th>preg</th>\n",
       "      <th>plas</th>\n",
       "      <th>pres</th>\n",
       "      <th>skin</th>\n",
       "      <th>insu</th>\n",
       "      <th>mass</th>\n",
       "      <th>pedi</th>\n",
       "      <th>age</th>\n",
       "      <th>class</th>\n",
       "    </tr>\n",
       "  </thead>\n",
       "  <tbody>\n",
       "    <tr>\n",
       "      <th>count</th>\n",
       "      <td>768.000000</td>\n",
       "      <td>768.000000</td>\n",
       "      <td>768.000000</td>\n",
       "      <td>768.000000</td>\n",
       "      <td>768.000000</td>\n",
       "      <td>768.000000</td>\n",
       "      <td>768.000000</td>\n",
       "      <td>768.000000</td>\n",
       "      <td>768.000000</td>\n",
       "    </tr>\n",
       "    <tr>\n",
       "      <th>mean</th>\n",
       "      <td>3.845052</td>\n",
       "      <td>120.894531</td>\n",
       "      <td>69.105469</td>\n",
       "      <td>20.536458</td>\n",
       "      <td>79.799479</td>\n",
       "      <td>31.992578</td>\n",
       "      <td>0.471876</td>\n",
       "      <td>33.240885</td>\n",
       "      <td>0.348958</td>\n",
       "    </tr>\n",
       "    <tr>\n",
       "      <th>std</th>\n",
       "      <td>3.369578</td>\n",
       "      <td>31.972618</td>\n",
       "      <td>19.355807</td>\n",
       "      <td>15.952218</td>\n",
       "      <td>115.244002</td>\n",
       "      <td>7.884160</td>\n",
       "      <td>0.331329</td>\n",
       "      <td>11.760232</td>\n",
       "      <td>0.476951</td>\n",
       "    </tr>\n",
       "    <tr>\n",
       "      <th>min</th>\n",
       "      <td>0.000000</td>\n",
       "      <td>0.000000</td>\n",
       "      <td>0.000000</td>\n",
       "      <td>0.000000</td>\n",
       "      <td>0.000000</td>\n",
       "      <td>0.000000</td>\n",
       "      <td>0.078000</td>\n",
       "      <td>21.000000</td>\n",
       "      <td>0.000000</td>\n",
       "    </tr>\n",
       "    <tr>\n",
       "      <th>25%</th>\n",
       "      <td>1.000000</td>\n",
       "      <td>99.000000</td>\n",
       "      <td>62.000000</td>\n",
       "      <td>0.000000</td>\n",
       "      <td>0.000000</td>\n",
       "      <td>27.300000</td>\n",
       "      <td>0.243750</td>\n",
       "      <td>24.000000</td>\n",
       "      <td>0.000000</td>\n",
       "    </tr>\n",
       "    <tr>\n",
       "      <th>50%</th>\n",
       "      <td>3.000000</td>\n",
       "      <td>117.000000</td>\n",
       "      <td>72.000000</td>\n",
       "      <td>23.000000</td>\n",
       "      <td>30.500000</td>\n",
       "      <td>32.000000</td>\n",
       "      <td>0.372500</td>\n",
       "      <td>29.000000</td>\n",
       "      <td>0.000000</td>\n",
       "    </tr>\n",
       "    <tr>\n",
       "      <th>75%</th>\n",
       "      <td>6.000000</td>\n",
       "      <td>140.250000</td>\n",
       "      <td>80.000000</td>\n",
       "      <td>32.000000</td>\n",
       "      <td>127.250000</td>\n",
       "      <td>36.600000</td>\n",
       "      <td>0.626250</td>\n",
       "      <td>41.000000</td>\n",
       "      <td>1.000000</td>\n",
       "    </tr>\n",
       "    <tr>\n",
       "      <th>max</th>\n",
       "      <td>17.000000</td>\n",
       "      <td>199.000000</td>\n",
       "      <td>122.000000</td>\n",
       "      <td>99.000000</td>\n",
       "      <td>846.000000</td>\n",
       "      <td>67.100000</td>\n",
       "      <td>2.420000</td>\n",
       "      <td>81.000000</td>\n",
       "      <td>1.000000</td>\n",
       "    </tr>\n",
       "  </tbody>\n",
       "</table>\n",
       "</div>"
      ],
      "text/plain": [
       "             preg        plas        pres        skin        insu        mass  \\\n",
       "count  768.000000  768.000000  768.000000  768.000000  768.000000  768.000000   \n",
       "mean     3.845052  120.894531   69.105469   20.536458   79.799479   31.992578   \n",
       "std      3.369578   31.972618   19.355807   15.952218  115.244002    7.884160   \n",
       "min      0.000000    0.000000    0.000000    0.000000    0.000000    0.000000   \n",
       "25%      1.000000   99.000000   62.000000    0.000000    0.000000   27.300000   \n",
       "50%      3.000000  117.000000   72.000000   23.000000   30.500000   32.000000   \n",
       "75%      6.000000  140.250000   80.000000   32.000000  127.250000   36.600000   \n",
       "max     17.000000  199.000000  122.000000   99.000000  846.000000   67.100000   \n",
       "\n",
       "             pedi         age       class  \n",
       "count  768.000000  768.000000  768.000000  \n",
       "mean     0.471876   33.240885    0.348958  \n",
       "std      0.331329   11.760232    0.476951  \n",
       "min      0.078000   21.000000    0.000000  \n",
       "25%      0.243750   24.000000    0.000000  \n",
       "50%      0.372500   29.000000    0.000000  \n",
       "75%      0.626250   41.000000    1.000000  \n",
       "max      2.420000   81.000000    1.000000  "
      ]
     },
     "execution_count": 2,
     "metadata": {},
     "output_type": "execute_result"
    }
   ],
   "source": [
    "diabetes = pd.read_csv(\"diabetes2.csv\", delim_whitespace=False) \n",
    "diabetes.describe()"
   ]
  },
  {
   "cell_type": "code",
   "execution_count": 3,
   "metadata": {
    "collapsed": false,
    "deletable": true,
    "editable": true
   },
   "outputs": [
    {
     "name": "stdout",
     "output_type": "stream",
     "text": [
      "<class 'pandas.core.frame.DataFrame'>\n",
      "RangeIndex: 768 entries, 0 to 767\n",
      "Data columns (total 9 columns):\n",
      "preg     768 non-null int64\n",
      "plas     768 non-null int64\n",
      "pres     768 non-null int64\n",
      "skin     768 non-null int64\n",
      "insu     768 non-null int64\n",
      "mass     768 non-null float64\n",
      "pedi     768 non-null float64\n",
      "age      768 non-null int64\n",
      "class    768 non-null int64\n",
      "dtypes: float64(2), int64(7)\n",
      "memory usage: 54.0 KB\n"
     ]
    }
   ],
   "source": [
    "diabetes.info()"
   ]
  },
  {
   "cell_type": "code",
   "execution_count": 4,
   "metadata": {
    "collapsed": false,
    "deletable": true,
    "editable": true
   },
   "outputs": [
    {
     "data": {
      "text/html": [
       "<div>\n",
       "<style>\n",
       "    .dataframe thead tr:only-child th {\n",
       "        text-align: right;\n",
       "    }\n",
       "\n",
       "    .dataframe thead th {\n",
       "        text-align: left;\n",
       "    }\n",
       "\n",
       "    .dataframe tbody tr th {\n",
       "        vertical-align: top;\n",
       "    }\n",
       "</style>\n",
       "<table border=\"1\" class=\"dataframe\">\n",
       "  <thead>\n",
       "    <tr style=\"text-align: right;\">\n",
       "      <th></th>\n",
       "      <th>preg</th>\n",
       "      <th>plas</th>\n",
       "      <th>pres</th>\n",
       "      <th>skin</th>\n",
       "      <th>insu</th>\n",
       "      <th>mass</th>\n",
       "      <th>pedi</th>\n",
       "      <th>age</th>\n",
       "      <th>class</th>\n",
       "    </tr>\n",
       "  </thead>\n",
       "  <tbody>\n",
       "    <tr>\n",
       "      <th>count</th>\n",
       "      <td>768.000000</td>\n",
       "      <td>763.000000</td>\n",
       "      <td>733.000000</td>\n",
       "      <td>541.000000</td>\n",
       "      <td>394.000000</td>\n",
       "      <td>757.000000</td>\n",
       "      <td>768.000000</td>\n",
       "      <td>768.000000</td>\n",
       "      <td>768.000000</td>\n",
       "    </tr>\n",
       "    <tr>\n",
       "      <th>mean</th>\n",
       "      <td>3.845052</td>\n",
       "      <td>121.686763</td>\n",
       "      <td>72.405184</td>\n",
       "      <td>29.153420</td>\n",
       "      <td>155.548223</td>\n",
       "      <td>32.457464</td>\n",
       "      <td>0.471876</td>\n",
       "      <td>33.240885</td>\n",
       "      <td>0.348958</td>\n",
       "    </tr>\n",
       "    <tr>\n",
       "      <th>std</th>\n",
       "      <td>3.369578</td>\n",
       "      <td>30.535641</td>\n",
       "      <td>12.382158</td>\n",
       "      <td>10.476982</td>\n",
       "      <td>118.775855</td>\n",
       "      <td>6.924988</td>\n",
       "      <td>0.331329</td>\n",
       "      <td>11.760232</td>\n",
       "      <td>0.476951</td>\n",
       "    </tr>\n",
       "    <tr>\n",
       "      <th>min</th>\n",
       "      <td>0.000000</td>\n",
       "      <td>44.000000</td>\n",
       "      <td>24.000000</td>\n",
       "      <td>7.000000</td>\n",
       "      <td>14.000000</td>\n",
       "      <td>18.200000</td>\n",
       "      <td>0.078000</td>\n",
       "      <td>21.000000</td>\n",
       "      <td>0.000000</td>\n",
       "    </tr>\n",
       "    <tr>\n",
       "      <th>25%</th>\n",
       "      <td>1.000000</td>\n",
       "      <td>99.000000</td>\n",
       "      <td>64.000000</td>\n",
       "      <td>22.000000</td>\n",
       "      <td>76.250000</td>\n",
       "      <td>27.500000</td>\n",
       "      <td>0.243750</td>\n",
       "      <td>24.000000</td>\n",
       "      <td>0.000000</td>\n",
       "    </tr>\n",
       "    <tr>\n",
       "      <th>50%</th>\n",
       "      <td>3.000000</td>\n",
       "      <td>117.000000</td>\n",
       "      <td>72.000000</td>\n",
       "      <td>29.000000</td>\n",
       "      <td>125.000000</td>\n",
       "      <td>32.300000</td>\n",
       "      <td>0.372500</td>\n",
       "      <td>29.000000</td>\n",
       "      <td>0.000000</td>\n",
       "    </tr>\n",
       "    <tr>\n",
       "      <th>75%</th>\n",
       "      <td>6.000000</td>\n",
       "      <td>141.000000</td>\n",
       "      <td>80.000000</td>\n",
       "      <td>36.000000</td>\n",
       "      <td>190.000000</td>\n",
       "      <td>36.600000</td>\n",
       "      <td>0.626250</td>\n",
       "      <td>41.000000</td>\n",
       "      <td>1.000000</td>\n",
       "    </tr>\n",
       "    <tr>\n",
       "      <th>max</th>\n",
       "      <td>17.000000</td>\n",
       "      <td>199.000000</td>\n",
       "      <td>122.000000</td>\n",
       "      <td>99.000000</td>\n",
       "      <td>846.000000</td>\n",
       "      <td>67.100000</td>\n",
       "      <td>2.420000</td>\n",
       "      <td>81.000000</td>\n",
       "      <td>1.000000</td>\n",
       "    </tr>\n",
       "  </tbody>\n",
       "</table>\n",
       "</div>"
      ],
      "text/plain": [
       "             preg        plas        pres        skin        insu        mass  \\\n",
       "count  768.000000  763.000000  733.000000  541.000000  394.000000  757.000000   \n",
       "mean     3.845052  121.686763   72.405184   29.153420  155.548223   32.457464   \n",
       "std      3.369578   30.535641   12.382158   10.476982  118.775855    6.924988   \n",
       "min      0.000000   44.000000   24.000000    7.000000   14.000000   18.200000   \n",
       "25%      1.000000   99.000000   64.000000   22.000000   76.250000   27.500000   \n",
       "50%      3.000000  117.000000   72.000000   29.000000  125.000000   32.300000   \n",
       "75%      6.000000  141.000000   80.000000   36.000000  190.000000   36.600000   \n",
       "max     17.000000  199.000000  122.000000   99.000000  846.000000   67.100000   \n",
       "\n",
       "             pedi         age       class  \n",
       "count  768.000000  768.000000  768.000000  \n",
       "mean     0.471876   33.240885    0.348958  \n",
       "std      0.331329   11.760232    0.476951  \n",
       "min      0.078000   21.000000    0.000000  \n",
       "25%      0.243750   24.000000    0.000000  \n",
       "50%      0.372500   29.000000    0.000000  \n",
       "75%      0.626250   41.000000    1.000000  \n",
       "max      2.420000   81.000000    1.000000  "
      ]
     },
     "execution_count": 4,
     "metadata": {},
     "output_type": "execute_result"
    }
   ],
   "source": [
    "diabetes2 = diabetes.copy(deep=True) # insulin, bmi=mass coloring by class, histogram other numerics color by class\n",
    "diabetes2['plas']= diabetes['plas'].replace(0,np.NaN)\n",
    "diabetes2['pres'] = diabetes['pres'].replace(0,np.NaN)\n",
    "diabetes2['skin'] = diabetes['skin'].replace(0,np.NaN)\n",
    "diabetes2['insu'] = diabetes['insu'].replace(0,np.NaN)\n",
    "diabetes2['mass'] = diabetes['mass'].replace(0,np.NaN)\n",
    "diabetes2.describe()"
   ]
  },
  {
   "cell_type": "code",
   "execution_count": 5,
   "metadata": {
    "collapsed": false,
    "deletable": true,
    "editable": true
   },
   "outputs": [
    {
     "name": "stdout",
     "output_type": "stream",
     "text": [
      "<class 'pandas.core.frame.DataFrame'>\n",
      "RangeIndex: 768 entries, 0 to 767\n",
      "Data columns (total 9 columns):\n",
      "preg     768 non-null int64\n",
      "plas     763 non-null float64\n",
      "pres     733 non-null float64\n",
      "skin     541 non-null float64\n",
      "insu     394 non-null float64\n",
      "mass     757 non-null float64\n",
      "pedi     768 non-null float64\n",
      "age      768 non-null int64\n",
      "class    768 non-null int64\n",
      "dtypes: float64(6), int64(3)\n",
      "memory usage: 54.0 KB\n"
     ]
    }
   ],
   "source": [
    "diabetes2.info()"
   ]
  },
  {
   "cell_type": "code",
   "execution_count": 6,
   "metadata": {
    "collapsed": false,
    "deletable": true,
    "editable": true
   },
   "outputs": [
    {
     "name": "stdout",
     "output_type": "stream",
     "text": [
      "preg       3.0000\n",
      "plas     117.0000\n",
      "pres      72.0000\n",
      "skin      29.0000\n",
      "insu     125.0000\n",
      "mass      32.3000\n",
      "pedi       0.3725\n",
      "age       29.0000\n",
      "class      0.0000\n",
      "dtype: float64\n"
     ]
    },
    {
     "data": {
      "text/html": [
       "<div>\n",
       "<style>\n",
       "    .dataframe thead tr:only-child th {\n",
       "        text-align: right;\n",
       "    }\n",
       "\n",
       "    .dataframe thead th {\n",
       "        text-align: left;\n",
       "    }\n",
       "\n",
       "    .dataframe tbody tr th {\n",
       "        vertical-align: top;\n",
       "    }\n",
       "</style>\n",
       "<table border=\"1\" class=\"dataframe\">\n",
       "  <thead>\n",
       "    <tr style=\"text-align: right;\">\n",
       "      <th></th>\n",
       "      <th>preg</th>\n",
       "      <th>plas</th>\n",
       "      <th>pres</th>\n",
       "      <th>skin</th>\n",
       "      <th>insu</th>\n",
       "      <th>mass</th>\n",
       "      <th>pedi</th>\n",
       "      <th>age</th>\n",
       "      <th>class</th>\n",
       "    </tr>\n",
       "  </thead>\n",
       "  <tbody>\n",
       "    <tr>\n",
       "      <th>count</th>\n",
       "      <td>768.000000</td>\n",
       "      <td>763.000000</td>\n",
       "      <td>733.000000</td>\n",
       "      <td>541.000000</td>\n",
       "      <td>394.000000</td>\n",
       "      <td>757.000000</td>\n",
       "      <td>768.000000</td>\n",
       "      <td>768.000000</td>\n",
       "      <td>768.000000</td>\n",
       "    </tr>\n",
       "    <tr>\n",
       "      <th>mean</th>\n",
       "      <td>3.845052</td>\n",
       "      <td>121.686763</td>\n",
       "      <td>72.405184</td>\n",
       "      <td>29.153420</td>\n",
       "      <td>155.548223</td>\n",
       "      <td>32.457464</td>\n",
       "      <td>0.471876</td>\n",
       "      <td>33.240885</td>\n",
       "      <td>0.348958</td>\n",
       "    </tr>\n",
       "    <tr>\n",
       "      <th>std</th>\n",
       "      <td>3.369578</td>\n",
       "      <td>30.535641</td>\n",
       "      <td>12.382158</td>\n",
       "      <td>10.476982</td>\n",
       "      <td>118.775855</td>\n",
       "      <td>6.924988</td>\n",
       "      <td>0.331329</td>\n",
       "      <td>11.760232</td>\n",
       "      <td>0.476951</td>\n",
       "    </tr>\n",
       "    <tr>\n",
       "      <th>min</th>\n",
       "      <td>0.000000</td>\n",
       "      <td>44.000000</td>\n",
       "      <td>24.000000</td>\n",
       "      <td>7.000000</td>\n",
       "      <td>14.000000</td>\n",
       "      <td>18.200000</td>\n",
       "      <td>0.078000</td>\n",
       "      <td>21.000000</td>\n",
       "      <td>0.000000</td>\n",
       "    </tr>\n",
       "    <tr>\n",
       "      <th>25%</th>\n",
       "      <td>1.000000</td>\n",
       "      <td>99.000000</td>\n",
       "      <td>64.000000</td>\n",
       "      <td>22.000000</td>\n",
       "      <td>76.250000</td>\n",
       "      <td>27.500000</td>\n",
       "      <td>0.243750</td>\n",
       "      <td>24.000000</td>\n",
       "      <td>0.000000</td>\n",
       "    </tr>\n",
       "    <tr>\n",
       "      <th>50%</th>\n",
       "      <td>3.000000</td>\n",
       "      <td>117.000000</td>\n",
       "      <td>72.000000</td>\n",
       "      <td>29.000000</td>\n",
       "      <td>125.000000</td>\n",
       "      <td>32.300000</td>\n",
       "      <td>0.372500</td>\n",
       "      <td>29.000000</td>\n",
       "      <td>0.000000</td>\n",
       "    </tr>\n",
       "    <tr>\n",
       "      <th>75%</th>\n",
       "      <td>6.000000</td>\n",
       "      <td>141.000000</td>\n",
       "      <td>80.000000</td>\n",
       "      <td>36.000000</td>\n",
       "      <td>190.000000</td>\n",
       "      <td>36.600000</td>\n",
       "      <td>0.626250</td>\n",
       "      <td>41.000000</td>\n",
       "      <td>1.000000</td>\n",
       "    </tr>\n",
       "    <tr>\n",
       "      <th>max</th>\n",
       "      <td>17.000000</td>\n",
       "      <td>199.000000</td>\n",
       "      <td>122.000000</td>\n",
       "      <td>99.000000</td>\n",
       "      <td>846.000000</td>\n",
       "      <td>67.100000</td>\n",
       "      <td>2.420000</td>\n",
       "      <td>81.000000</td>\n",
       "      <td>1.000000</td>\n",
       "    </tr>\n",
       "  </tbody>\n",
       "</table>\n",
       "</div>"
      ],
      "text/plain": [
       "             preg        plas        pres        skin        insu        mass  \\\n",
       "count  768.000000  763.000000  733.000000  541.000000  394.000000  757.000000   \n",
       "mean     3.845052  121.686763   72.405184   29.153420  155.548223   32.457464   \n",
       "std      3.369578   30.535641   12.382158   10.476982  118.775855    6.924988   \n",
       "min      0.000000   44.000000   24.000000    7.000000   14.000000   18.200000   \n",
       "25%      1.000000   99.000000   64.000000   22.000000   76.250000   27.500000   \n",
       "50%      3.000000  117.000000   72.000000   29.000000  125.000000   32.300000   \n",
       "75%      6.000000  141.000000   80.000000   36.000000  190.000000   36.600000   \n",
       "max     17.000000  199.000000  122.000000   99.000000  846.000000   67.100000   \n",
       "\n",
       "             pedi         age       class  \n",
       "count  768.000000  768.000000  768.000000  \n",
       "mean     0.471876   33.240885    0.348958  \n",
       "std      0.331329   11.760232    0.476951  \n",
       "min      0.078000   21.000000    0.000000  \n",
       "25%      0.243750   24.000000    0.000000  \n",
       "50%      0.372500   29.000000    0.000000  \n",
       "75%      0.626250   41.000000    1.000000  \n",
       "max      2.420000   81.000000    1.000000  "
      ]
     },
     "execution_count": 6,
     "metadata": {},
     "output_type": "execute_result"
    }
   ],
   "source": [
    "print diabetes2.apply(np.nanmedian, axis = 0) #calculate medians to compare with means\n",
    "diabetes2.describe() # shows means"
   ]
  },
  {
   "cell_type": "code",
   "execution_count": 7,
   "metadata": {
    "collapsed": false,
    "deletable": true,
    "editable": true
   },
   "outputs": [
    {
     "name": "stdout",
     "output_type": "stream",
     "text": [
      "     preg   plas  pres  mass   pedi  age\n",
      "0       6  148.0  72.0  33.6  0.627   50\n",
      "1       1   85.0  66.0  26.6  0.351   31\n",
      "2       8  183.0  64.0  23.3  0.672   32\n",
      "3       1   89.0  66.0  28.1  0.167   21\n",
      "4       0  137.0  40.0  43.1  2.288   33\n",
      "5       5  116.0  74.0  25.6  0.201   30\n",
      "6       3   78.0  50.0  31.0  0.248   26\n",
      "7      10  115.0   NaN  35.3  0.134   29\n",
      "8       2  197.0  70.0  30.5  0.158   53\n",
      "9       8  125.0  96.0   NaN  0.232   54\n",
      "10      4  110.0  92.0  37.6  0.191   30\n",
      "11     10  168.0  74.0  38.0  0.537   34\n",
      "12     10  139.0  80.0  27.1  1.441   57\n",
      "13      1  189.0  60.0  30.1  0.398   59\n",
      "14      5  166.0  72.0  25.8  0.587   51\n",
      "15      7  100.0   NaN  30.0  0.484   32\n",
      "16      0  118.0  84.0  45.8  0.551   31\n",
      "17      7  107.0  74.0  29.6  0.254   31\n",
      "18      1  103.0  30.0  43.3  0.183   33\n",
      "19      1  115.0  70.0  34.6  0.529   32\n",
      "20      3  126.0  88.0  39.3  0.704   27\n",
      "21      8   99.0  84.0  35.4  0.388   50\n",
      "22      7  196.0  90.0  39.8  0.451   41\n",
      "23      9  119.0  80.0  29.0  0.263   29\n",
      "24     11  143.0  94.0  36.6  0.254   51\n",
      "25     10  125.0  70.0  31.1  0.205   41\n",
      "26      7  147.0  76.0  39.4  0.257   43\n",
      "27      1   97.0  66.0  23.2  0.487   22\n",
      "28     13  145.0  82.0  22.2  0.245   57\n",
      "29      5  117.0  92.0  34.1  0.337   38\n",
      "..    ...    ...   ...   ...    ...  ...\n",
      "738     2   99.0  60.0  36.6  0.453   21\n",
      "739     1  102.0  74.0  39.5  0.293   42\n",
      "740    11  120.0  80.0  42.3  0.785   48\n",
      "741     3  102.0  44.0  30.8  0.400   26\n",
      "742     1  109.0  58.0  28.5  0.219   22\n",
      "743     9  140.0  94.0  32.7  0.734   45\n",
      "744    13  153.0  88.0  40.6  1.174   39\n",
      "745    12  100.0  84.0  30.0  0.488   46\n",
      "746     1  147.0  94.0  49.3  0.358   27\n",
      "747     1   81.0  74.0  46.3  1.096   32\n",
      "748     3  187.0  70.0  36.4  0.408   36\n",
      "749     6  162.0  62.0  24.3  0.178   50\n",
      "750     4  136.0  70.0  31.2  1.182   22\n",
      "751     1  121.0  78.0  39.0  0.261   28\n",
      "752     3  108.0  62.0  26.0  0.223   25\n",
      "753     0  181.0  88.0  43.3  0.222   26\n",
      "754     8  154.0  78.0  32.4  0.443   45\n",
      "755     1  128.0  88.0  36.5  1.057   37\n",
      "756     7  137.0  90.0  32.0  0.391   39\n",
      "757     0  123.0  72.0  36.3  0.258   52\n",
      "758     1  106.0  76.0  37.5  0.197   26\n",
      "759     6  190.0  92.0  35.5  0.278   66\n",
      "760     2   88.0  58.0  28.4  0.766   22\n",
      "761     9  170.0  74.0  44.0  0.403   43\n",
      "762     9   89.0  62.0  22.5  0.142   33\n",
      "763    10  101.0  76.0  32.9  0.171   63\n",
      "764     2  122.0  70.0  36.8  0.340   27\n",
      "765     5  121.0  72.0  26.2  0.245   30\n",
      "766     1  126.0  60.0  30.1  0.349   47\n",
      "767     1   93.0  70.0  30.4  0.315   23\n",
      "\n",
      "[768 rows x 6 columns]\n",
      "0      1\n",
      "1      0\n",
      "2      1\n",
      "3      0\n",
      "4      1\n",
      "5      0\n",
      "6      1\n",
      "7      0\n",
      "8      1\n",
      "9      1\n",
      "10     0\n",
      "11     1\n",
      "12     0\n",
      "13     1\n",
      "14     1\n",
      "15     1\n",
      "16     1\n",
      "17     1\n",
      "18     0\n",
      "19     1\n",
      "20     0\n",
      "21     0\n",
      "22     1\n",
      "23     1\n",
      "24     1\n",
      "25     1\n",
      "26     1\n",
      "27     0\n",
      "28     0\n",
      "29     0\n",
      "      ..\n",
      "738    0\n",
      "739    1\n",
      "740    1\n",
      "741    0\n",
      "742    0\n",
      "743    1\n",
      "744    0\n",
      "745    0\n",
      "746    1\n",
      "747    0\n",
      "748    1\n",
      "749    1\n",
      "750    1\n",
      "751    0\n",
      "752    0\n",
      "753    1\n",
      "754    1\n",
      "755    1\n",
      "756    0\n",
      "757    1\n",
      "758    0\n",
      "759    1\n",
      "760    0\n",
      "761    1\n",
      "762    0\n",
      "763    0\n",
      "764    0\n",
      "765    0\n",
      "766    1\n",
      "767    0\n",
      "Name: class, Length: 768, dtype: int64\n",
      "[1 0]\n"
     ]
    },
    {
     "data": {
      "text/html": [
       "<div>\n",
       "<style>\n",
       "    .dataframe thead tr:only-child th {\n",
       "        text-align: right;\n",
       "    }\n",
       "\n",
       "    .dataframe thead th {\n",
       "        text-align: left;\n",
       "    }\n",
       "\n",
       "    .dataframe tbody tr th {\n",
       "        vertical-align: top;\n",
       "    }\n",
       "</style>\n",
       "<table border=\"1\" class=\"dataframe\">\n",
       "  <thead>\n",
       "    <tr style=\"text-align: right;\">\n",
       "      <th></th>\n",
       "      <th>preg</th>\n",
       "      <th>plas</th>\n",
       "      <th>pres</th>\n",
       "      <th>mass</th>\n",
       "      <th>pedi</th>\n",
       "      <th>age</th>\n",
       "    </tr>\n",
       "  </thead>\n",
       "  <tbody>\n",
       "    <tr>\n",
       "      <th>count</th>\n",
       "      <td>537.000000</td>\n",
       "      <td>534.000000</td>\n",
       "      <td>515.000000</td>\n",
       "      <td>531.000000</td>\n",
       "      <td>537.000000</td>\n",
       "      <td>537.000000</td>\n",
       "    </tr>\n",
       "    <tr>\n",
       "      <th>mean</th>\n",
       "      <td>3.836127</td>\n",
       "      <td>122.108614</td>\n",
       "      <td>71.836893</td>\n",
       "      <td>32.388136</td>\n",
       "      <td>0.481223</td>\n",
       "      <td>33.266294</td>\n",
       "    </tr>\n",
       "    <tr>\n",
       "      <th>std</th>\n",
       "      <td>3.380028</td>\n",
       "      <td>30.933012</td>\n",
       "      <td>11.976330</td>\n",
       "      <td>6.736016</td>\n",
       "      <td>0.337300</td>\n",
       "      <td>11.779609</td>\n",
       "    </tr>\n",
       "    <tr>\n",
       "      <th>min</th>\n",
       "      <td>0.000000</td>\n",
       "      <td>44.000000</td>\n",
       "      <td>30.000000</td>\n",
       "      <td>18.200000</td>\n",
       "      <td>0.084000</td>\n",
       "      <td>21.000000</td>\n",
       "    </tr>\n",
       "    <tr>\n",
       "      <th>25%</th>\n",
       "      <td>1.000000</td>\n",
       "      <td>100.000000</td>\n",
       "      <td>64.000000</td>\n",
       "      <td>27.400000</td>\n",
       "      <td>0.253000</td>\n",
       "      <td>24.000000</td>\n",
       "    </tr>\n",
       "    <tr>\n",
       "      <th>50%</th>\n",
       "      <td>3.000000</td>\n",
       "      <td>118.000000</td>\n",
       "      <td>72.000000</td>\n",
       "      <td>32.200000</td>\n",
       "      <td>0.378000</td>\n",
       "      <td>30.000000</td>\n",
       "    </tr>\n",
       "    <tr>\n",
       "      <th>75%</th>\n",
       "      <td>6.000000</td>\n",
       "      <td>141.750000</td>\n",
       "      <td>80.000000</td>\n",
       "      <td>36.450000</td>\n",
       "      <td>0.647000</td>\n",
       "      <td>41.000000</td>\n",
       "    </tr>\n",
       "    <tr>\n",
       "      <th>max</th>\n",
       "      <td>17.000000</td>\n",
       "      <td>198.000000</td>\n",
       "      <td>110.000000</td>\n",
       "      <td>59.400000</td>\n",
       "      <td>2.420000</td>\n",
       "      <td>81.000000</td>\n",
       "    </tr>\n",
       "  </tbody>\n",
       "</table>\n",
       "</div>"
      ],
      "text/plain": [
       "             preg        plas        pres        mass        pedi         age\n",
       "count  537.000000  534.000000  515.000000  531.000000  537.000000  537.000000\n",
       "mean     3.836127  122.108614   71.836893   32.388136    0.481223   33.266294\n",
       "std      3.380028   30.933012   11.976330    6.736016    0.337300   11.779609\n",
       "min      0.000000   44.000000   30.000000   18.200000    0.084000   21.000000\n",
       "25%      1.000000  100.000000   64.000000   27.400000    0.253000   24.000000\n",
       "50%      3.000000  118.000000   72.000000   32.200000    0.378000   30.000000\n",
       "75%      6.000000  141.750000   80.000000   36.450000    0.647000   41.000000\n",
       "max     17.000000  198.000000  110.000000   59.400000    2.420000   81.000000"
      ]
     },
     "execution_count": 7,
     "metadata": {},
     "output_type": "execute_result"
    }
   ],
   "source": [
    "X = diabetes2.drop(labels=['class','insu','skin'], axis=1)\n",
    "print X\n",
    "y = diabetes2.loc[:,'class'] # alt: use iloc for index based data selection\n",
    "print y\n",
    "print y.unique()\n",
    "X_col_names = X.columns.values\n",
    "X_train, X_test, y_train, y_test = train_test_split(X, y, test_size=0.3, random_state=1,stratify=y)\n",
    "X_train.describe()"
   ]
  },
  {
   "cell_type": "markdown",
   "metadata": {
    "deletable": true,
    "editable": true
   },
   "source": [
    "###### Impute X\n",
    "- Fitted AND transformed training set\n",
    "- Transformed test set on scale fitted to training set"
   ]
  },
  {
   "cell_type": "code",
   "execution_count": 10,
   "metadata": {
    "collapsed": false,
    "deletable": true,
    "editable": true
   },
   "outputs": [
    {
     "name": "stdout",
     "output_type": "stream",
     "text": [
      "537\n",
      "231\n"
     ]
    }
   ],
   "source": [
    "imp_x = Imputer(missing_values='NaN', strategy='median', axis=0) \n",
    "X_train = imp_x.fit_transform(X_train)# # fit AND transform training set\n",
    "X_test = imp_x.transform(X_test) # transform test set on scale fitted to training set\n",
    "print len(y_train)\n",
    "print len(y_test)"
   ]
  },
  {
   "cell_type": "markdown",
   "metadata": {
    "deletable": true,
    "editable": true
   },
   "source": [
    "###### Using 2 different kernels (rbf and polynomial)\n",
    "- Train support vector machines to classify examples into control (0) and case (1). \n",
    "- Select the best model for each kernel of \"rbf\" and \"polynomial\" \n",
    "- Also record prediction accuracy, confusion matrix and area under the ROC curve."
   ]
  },
  {
   "cell_type": "code",
   "execution_count": 11,
   "metadata": {
    "collapsed": false,
    "deletable": true,
    "editable": true,
    "scrolled": true
   },
   "outputs": [
    {
     "name": "stdout",
     "output_type": "stream",
     "text": [
      "SVC(C=1.0, cache_size=1000, class_weight='balanced', coef0=0.0,\n",
      "  decision_function_shape=None, degree=3, gamma='auto', kernel='rbf',\n",
      "  max_iter=-1, probability=True, random_state=None, shrinking=True,\n",
      "  tol=0.001, verbose=False)\n",
      "Prediction accuracy:  0.65367965368\n"
     ]
    }
   ],
   "source": [
    "svc = SVC(kernel='rbf', class_weight='balanced', cache_size=1000, probability=True) # instantiates a SVM classifier\n",
    "#svc = SVC(kernel='rbf', cache_size=1000, probability=True) \n",
    "print svc\n",
    "clf = svc.fit(X_train, y_train) # trains the classifier on the training set\n",
    "y_pred = svc.predict(X_test) # tests the classifier on the test set\n",
    "pTot = accuracy_score(y_test, y_pred)\n",
    "print \"Prediction accuracy: \",pTot"
   ]
  },
  {
   "cell_type": "markdown",
   "metadata": {
    "deletable": true,
    "editable": true
   },
   "source": [
    "###### Confusion Matrix:\n",
    "Each row contains examples that are actually in the ith class.\n",
    "Each column contains examples that are predicted to be in the jth class.\n",
    "By definition a confusion matrix C is such that:\n",
    "Cij is equal to the number of observations known to be in group i but predicted to be in group j"
   ]
  },
  {
   "cell_type": "code",
   "execution_count": 12,
   "metadata": {
    "collapsed": false,
    "deletable": true,
    "editable": true
   },
   "outputs": [
    {
     "data": {
      "text/plain": [
       "array([[150,   0],\n",
       "       [ 80,   1]])"
      ]
     },
     "execution_count": 12,
     "metadata": {},
     "output_type": "execute_result"
    }
   ],
   "source": [
    "cm = confusion_matrix(y_test, y_pred)\n",
    "cm"
   ]
  },
  {
   "cell_type": "markdown",
   "metadata": {
    "deletable": true,
    "editable": true
   },
   "source": [
    "###### Classification Report:\n",
    "precision (is NOT specificity) is fraction of predicted pos that are actually pos\n",
    "      aka positive predictive value = TP/ predicted pos\n",
    "recall (aka sensitivity) is TP rate, is fraction of actual pos that are predicted pos\n",
    "      is on y-axis of ROC curve TP rate = TP / actual pos\n",
    "f1 score is the harmonic mean of precision and sensitivity: 2TP / (2TP + FP + FN)\n",
    "support is number of true instances for each label:\n",
    "      is confusion matrix row sum for that label"
   ]
  },
  {
   "cell_type": "code",
   "execution_count": 13,
   "metadata": {
    "collapsed": false,
    "deletable": true,
    "editable": true
   },
   "outputs": [
    {
     "name": "stdout",
     "output_type": "stream",
     "text": [
      "             precision    recall  f1-score   support\n",
      "\n",
      "          0       0.65      1.00      0.79       150\n",
      "          1       1.00      0.01      0.02        81\n",
      "\n",
      "avg / total       0.77      0.65      0.52       231\n",
      "\n"
     ]
    }
   ],
   "source": [
    "report = classification_report(y_test, y_pred)\n",
    "print report #for each class prints: precision  recall  f1-score   support"
   ]
  },
  {
   "cell_type": "markdown",
   "metadata": {
    "deletable": true,
    "editable": true
   },
   "source": [
    "###### Scale Data for use with Machine Learning"
   ]
  },
  {
   "cell_type": "code",
   "execution_count": 14,
   "metadata": {
    "collapsed": false,
    "deletable": true,
    "editable": true
   },
   "outputs": [
    {
     "name": "stdout",
     "output_type": "stream",
     "text": [
      "[[   0.     131.      66.      34.3      0.196   22.   ]\n",
      " [   0.     165.      90.      52.3      0.427   23.   ]\n",
      " [   7.     102.      74.      37.2      0.204   45.   ]\n",
      " ..., \n",
      " [   1.     172.      68.      42.4      0.702   28.   ]\n",
      " [   5.     158.      84.      39.4      0.395   29.   ]\n",
      " [   4.     151.      90.      29.7      0.294   36.   ]]\n"
     ]
    },
    {
     "data": {
      "text/plain": [
       "array([[ 0.        ,  0.56493506,  0.45      ,  0.3907767 ,  0.04794521,\n",
       "         0.01666667],\n",
       "       [ 0.        ,  0.78571429,  0.75      ,  0.8276699 ,  0.14683219,\n",
       "         0.03333333],\n",
       "       [ 0.41176471,  0.37662338,  0.55      ,  0.46116505,  0.05136986,\n",
       "         0.4       ],\n",
       "       ..., \n",
       "       [ 0.05882353,  0.83116883,  0.475     ,  0.58737864,  0.26455479,\n",
       "         0.11666667],\n",
       "       [ 0.29411765,  0.74025974,  0.675     ,  0.51456311,  0.13313356,\n",
       "         0.13333333],\n",
       "       [ 0.23529412,  0.69480519,  0.75      ,  0.27912621,  0.08989726,\n",
       "         0.25      ]])"
      ]
     },
     "execution_count": 14,
     "metadata": {},
     "output_type": "execute_result"
    }
   ],
   "source": [
    "print X_test #compare before/after scaling\n",
    "min_max_scaler = MinMaxScaler()\n",
    "X_train_minmax = min_max_scaler.fit_transform(X_train)# fit AND transform training set\n",
    "X_test_minmax = min_max_scaler.transform(X_test)# test set transform only, no fit\n",
    "X_test_minmax "
   ]
  },
  {
   "cell_type": "code",
   "execution_count": 15,
   "metadata": {
    "collapsed": false,
    "deletable": true,
    "editable": true
   },
   "outputs": [
    {
     "name": "stdout",
     "output_type": "stream",
     "text": [
      "SVC(C=1.0, cache_size=1000, class_weight='balanced', coef0=0.0,\n",
      "  decision_function_shape=None, degree=3, gamma='auto', kernel='rbf',\n",
      "  max_iter=-1, probability=True, random_state=None, shrinking=True,\n",
      "  tol=0.001, verbose=False)\n",
      "Prediction accuracy:  0.718614718615\n"
     ]
    }
   ],
   "source": [
    "svc = SVC(kernel='rbf', class_weight='balanced', cache_size=1000, probability=True) \n",
    "#svc = SVC(kernel='rbf', cache_size=1000, probability=True) \n",
    "print svc\n",
    "clf = svc.fit(X_train_minmax, y_train) # trains the classifier on the training set\n",
    "y_pred_minmax = svc.predict(X_test_minmax) # tests the classifier on the test set\n",
    "pTot = accuracy_score(y_test, y_pred_minmax)\n",
    "print \"Prediction accuracy: \",pTot"
   ]
  },
  {
   "cell_type": "code",
   "execution_count": 16,
   "metadata": {
    "collapsed": false,
    "deletable": true,
    "editable": true
   },
   "outputs": [
    {
     "name": "stdout",
     "output_type": "stream",
     "text": [
      "[[114  36]\n",
      " [ 29  52]]\n",
      "             precision    recall  f1-score   support\n",
      "\n",
      "          0       0.80      0.76      0.78       150\n",
      "          1       0.59      0.64      0.62        81\n",
      "\n",
      "avg / total       0.72      0.72      0.72       231\n",
      "\n"
     ]
    }
   ],
   "source": [
    "cm = confusion_matrix(y_test, y_pred_minmax)\n",
    "print cm\n",
    "report = classification_report(y_test, y_pred_minmax)\n",
    "print report #for each class prints: precision  recall  f1-score   support"
   ]
  },
  {
   "cell_type": "code",
   "execution_count": 17,
   "metadata": {
    "collapsed": false,
    "deletable": true,
    "editable": true
   },
   "outputs": [
    {
     "name": "stdout",
     "output_type": "stream",
     "text": [
      "thresholds [ 1.95206852  0.95206852  0.93235861  0.91499107  0.82855987  0.82651988\n",
      "  0.74551916  0.72880379  0.72675789  0.71807256  0.69469488  0.69198883\n",
      "  0.67877493  0.67509124  0.66643774  0.66260975  0.64767357  0.64746031\n",
      "  0.58819777  0.56174583  0.55422109  0.54925259  0.54213928  0.52853007\n",
      "  0.5155893   0.5         0.49167845  0.48956688  0.48858083  0.48263335\n",
      "  0.46235451  0.43116836  0.41188342  0.39559564  0.37382567  0.37276836\n",
      "  0.37004782  0.3678639   0.35175946  0.34520584  0.33973018  0.33890918\n",
      "  0.32767027  0.29799736  0.2976237   0.29699857  0.29324678  0.29247513\n",
      "  0.28818072  0.28671624  0.28141398  0.27762107  0.26830644  0.26605981\n",
      "  0.25669815  0.25450027  0.24356943  0.24335808  0.23832034  0.22257553\n",
      "  0.20767855  0.20610205  0.20023303  0.19496742  0.18694229  0.18645787\n",
      "  0.17873771  0.17736918  0.17438778  0.16487185  0.16237552  0.16230004\n",
      "  0.15223911  0.14500752  0.14468329  0.13936983  0.13646808  0.13358108\n",
      "  0.09670827  0.09604077  0.04668938  0.04608997  0.0201008 ]\n",
      "probas_ [[ 0.82263082  0.17736918]\n",
      " [ 0.27119621  0.72880379]\n",
      " [ 0.66435911  0.33564089]\n",
      " [ 0.96367478  0.03632522]\n",
      " [ 0.58811658  0.41188342]\n",
      " [ 0.75664192  0.24335808]\n",
      " [ 0.08500893  0.91499107]\n",
      " [ 0.51141917  0.48858083]\n",
      " [ 0.56883164  0.43116836]\n",
      " [ 0.90678702  0.09321298]\n",
      " [ 0.83512815  0.16487185]\n",
      " [ 0.31963248  0.68036752]\n",
      " [ 0.94264339  0.05735661]\n",
      " [ 0.50972027  0.49027973]\n",
      " [ 0.96496903  0.03503097]\n",
      " [ 0.9354782   0.0645218 ]\n",
      " [ 0.84674989  0.15325011]\n",
      " [ 0.87907145  0.12092855]\n",
      " [ 0.67673139  0.32326861]\n",
      " [ 0.94001152  0.05998848]\n",
      " [ 0.51233791  0.48766209]\n",
      " [ 0.75643057  0.24356943]\n",
      " [ 0.65198353  0.34801647]\n",
      " [ 0.12612394  0.87387606]\n",
      " [ 0.28332709  0.71667291]\n",
      " [ 0.22163483  0.77836517]\n",
      " [ 0.51043312  0.48956688]\n",
      " [ 0.71344454  0.28655546]\n",
      " [ 0.40124771  0.59875229]\n",
      " [ 0.57290772  0.42709228]\n",
      " [ 0.28192744  0.71807256]\n",
      " [ 0.32490876  0.67509124]\n",
      " [ 0.35941251  0.64058749]\n",
      " [ 0.87765388  0.12234612]\n",
      " [ 0.95501417  0.04498583]\n",
      " [ 0.94648413  0.05351587]\n",
      " [ 0.27324211  0.72675789]\n",
      " [ 0.95757774  0.04242226]\n",
      " [ 0.57013573  0.42986427]\n",
      " [ 0.79232145  0.20767855]\n",
      " [ 0.89442476  0.10557524]\n",
      " [ 0.79455348  0.20544652]\n",
      " [ 0.45786072  0.54213928]\n",
      " [ 0.264552    0.735448  ]\n",
      " [ 0.62617433  0.37382567]\n",
      " [ 0.83743453  0.16256547]\n",
      " [ 0.35957948  0.64042052]\n",
      " [ 0.5511722   0.4488278 ]\n",
      " [ 0.17348012  0.82651988]\n",
      " [ 0.79389795  0.20610205]\n",
      " [ 0.12819613  0.87180387]\n",
      " [ 0.81596202  0.18403798]\n",
      " [ 0.44577891  0.55422109]\n",
      " [ 0.82548377  0.17451623]\n",
      " [ 0.79441283  0.20558717]\n",
      " [ 0.31336503  0.68663497]\n",
      " [ 0.86641892  0.13358108]\n",
      " [ 0.90983625  0.09016375]\n",
      " [ 0.80859182  0.19140818]\n",
      " [ 0.74138649  0.25861351]\n",
      " [ 0.17477443  0.82522557]\n",
      " [ 0.35232643  0.64767357]\n",
      " [ 0.70752487  0.29247513]\n",
      " [ 0.25448084  0.74551916]\n",
      " [ 0.70675322  0.29324678]\n",
      " [ 0.79976697  0.20023303]\n",
      " [ 0.86821128  0.13178872]\n",
      " [ 0.30801117  0.69198883]\n",
      " [ 0.88073454  0.11926546]\n",
      " [ 0.11825433  0.88174567]\n",
      " [ 0.62995218  0.37004782]\n",
      " [ 0.86258829  0.13741171]\n",
      " [ 0.62940913  0.37059087]\n",
      " [ 0.53181112  0.46818888]\n",
      " [ 0.73169356  0.26830644]\n",
      " [ 0.90395923  0.09604077]\n",
      " [ 0.82126229  0.17873771]\n",
      " [ 0.94999001  0.05000999]\n",
      " [ 0.96535324  0.03464676]\n",
      " [ 0.52823937  0.47176063]\n",
      " [ 0.96670924  0.03329076]\n",
      " [ 0.91010175  0.08989825]\n",
      " [ 0.87276148  0.12723852]\n",
      " [ 0.7861648   0.2138352 ]\n",
      " [ 0.72632436  0.27367564]\n",
      " [ 0.87219727  0.12780273]\n",
      " [ 0.35253969  0.64746031]\n",
      " [ 0.71181928  0.28818072]\n",
      " [ 0.11922784  0.88077216]\n",
      " [ 0.67232973  0.32767027]\n",
      " [ 0.6321361   0.3678639 ]\n",
      " [ 0.90329173  0.09670827]\n",
      " [ 0.84317671  0.15682329]\n",
      " [ 0.62723164  0.37276836]\n",
      " [ 0.44630104  0.55369896]\n",
      " [ 0.9517656   0.0482344 ]\n",
      " [ 0.79018741  0.20981259]\n",
      " [ 0.57977335  0.42022665]\n",
      " [ 0.7023763   0.2976237 ]\n",
      " [ 0.58359091  0.41640909]\n",
      " [ 0.28244405  0.71755595]\n",
      " [ 0.86353192  0.13646808]\n",
      " [ 0.6616637   0.3383363 ]\n",
      " [ 0.52354519  0.47645481]\n",
      " [ 0.94475331  0.05524669]\n",
      " [ 0.76429867  0.23570133]\n",
      " [ 0.92299723  0.07700277]\n",
      " [ 0.5         0.5       ]\n",
      " [ 0.91400382  0.08599618]\n",
      " [ 0.43825417  0.56174583]\n",
      " [ 0.91627994  0.08372006]\n",
      " [ 0.73411852  0.26588148]\n",
      " [ 0.8722788   0.1277212 ]\n",
      " [ 0.85531671  0.14468329]\n",
      " [ 0.94345537  0.05654463]\n",
      " [ 0.86063017  0.13936983]\n",
      " [ 0.32122507  0.67877493]\n",
      " [ 0.46624873  0.53375127]\n",
      " [ 0.94028342  0.05971658]\n",
      " [ 0.76167966  0.23832034]\n",
      " [ 0.09096694  0.90903306]\n",
      " [ 0.35435211  0.64564789]\n",
      " [ 0.47146993  0.52853007]\n",
      " [ 0.80503258  0.19496742]\n",
      " [ 0.23316348  0.76683652]\n",
      " [ 0.79869904  0.20130096]\n",
      " [ 0.9798992   0.0201008 ]\n",
      " [ 0.91776485  0.08223515]\n",
      " [ 0.95900811  0.04099189]\n",
      " [ 0.74330185  0.25669815]\n",
      " [ 0.4844107   0.5155893 ]\n",
      " [ 0.90948468  0.09051532]\n",
      " [ 0.95391003  0.04608997]\n",
      " [ 0.72237893  0.27762107]\n",
      " [ 0.30530512  0.69469488]\n",
      " [ 0.06189886  0.93810114]\n",
      " [ 0.92258656  0.07741344]\n",
      " [ 0.84646441  0.15353559]\n",
      " [ 0.79137226  0.20862774]\n",
      " [ 0.81354213  0.18645787]\n",
      " [ 0.72099665  0.27900335]\n",
      " [ 0.91866741  0.08133259]\n",
      " [ 0.91151331  0.08848669]\n",
      " [ 0.96373134  0.03626866]\n",
      " [ 0.81305771  0.18694229]\n",
      " [ 0.38839077  0.61160923]\n",
      " [ 0.72174691  0.27825309]\n",
      " [ 0.9427134   0.0572866 ]\n",
      " [ 0.90617303  0.09382697]\n",
      " [ 0.29275736  0.70724264]\n",
      " [ 0.26589952  0.73410048]\n",
      " [ 0.41870618  0.58129382]\n",
      " [ 0.77742447  0.22257553]\n",
      " [ 0.95813342  0.04186658]\n",
      " [ 0.89474581  0.10525419]\n",
      " [ 0.71328376  0.28671624]\n",
      " [ 0.60205779  0.39794221]\n",
      " [ 0.55021831  0.44978169]\n",
      " [ 0.96075983  0.03924017]\n",
      " [ 0.93823811  0.06176189]\n",
      " [ 0.92881385  0.07118615]\n",
      " [ 0.9407304   0.0592696 ]\n",
      " [ 0.51736665  0.48263335]\n",
      " [ 0.20208289  0.79791711]\n",
      " [ 0.65479416  0.34520584]\n",
      " [ 0.97122379  0.02877621]\n",
      " [ 0.41180223  0.58819777]\n",
      " [ 0.29348325  0.70651675]\n",
      " [ 0.93796363  0.06203637]\n",
      " [ 0.82561222  0.17438778]\n",
      " [ 0.9196796   0.0803204 ]\n",
      " [ 0.81377122  0.18622878]\n",
      " [ 0.90799548  0.09200452]\n",
      " [ 0.60440436  0.39559564]\n",
      " [ 0.74549973  0.25450027]\n",
      " [ 0.95331062  0.04668938]\n",
      " [ 0.33739025  0.66260975]\n",
      " [ 0.88723331  0.11276669]\n",
      " [ 0.38873921  0.61126079]\n",
      " [ 0.96386737  0.03613263]\n",
      " [ 0.83762448  0.16237552]\n",
      " [ 0.95594077  0.04405923]\n",
      " [ 0.656907    0.343093  ]\n",
      " [ 0.08872004  0.91127996]\n",
      " [ 0.92819562  0.07180438]\n",
      " [ 0.86064661  0.13935339]\n",
      " [ 0.5         0.5       ]\n",
      " [ 0.1227871   0.8772129 ]\n",
      " [ 0.94248781  0.05751219]\n",
      " [ 0.9388015   0.0611985 ]\n",
      " [ 0.81123453  0.18876547]\n",
      " [ 0.3311853   0.6688147 ]\n",
      " [ 0.96319239  0.03680761]\n",
      " [ 0.93684922  0.06315078]\n",
      " [ 0.93453162  0.06546838]\n",
      " [ 0.81333718  0.18666282]\n",
      " [ 0.89385665  0.10614335]\n",
      " [ 0.53764549  0.46235451]\n",
      " [ 0.71858602  0.28141398]\n",
      " [ 0.72748806  0.27251194]\n",
      " [ 0.90966462  0.09033538]\n",
      " [ 0.67187383  0.32812617]\n",
      " [ 0.64824054  0.35175946]\n",
      " [ 0.73394019  0.26605981]\n",
      " [ 0.61832283  0.38167717]\n",
      " [ 0.33356226  0.66643774]\n",
      " [ 0.91723853  0.08276147]\n",
      " [ 0.66109082  0.33890918]\n",
      " [ 0.85499248  0.14500752]\n",
      " [ 0.95150125  0.04849875]\n",
      " [ 0.06764139  0.93235861]\n",
      " [ 0.17144013  0.82855987]\n",
      " [ 0.94086296  0.05913704]\n",
      " [ 0.81135126  0.18864874]\n",
      " [ 0.70300143  0.29699857]\n",
      " [ 0.04793148  0.95206852]\n",
      " [ 0.83769996  0.16230004]\n",
      " [ 0.05777377  0.94222623]\n",
      " [ 0.46101087  0.53898913]\n",
      " [ 0.930538    0.069462  ]\n",
      " [ 0.87224742  0.12775258]\n",
      " [ 0.84776089  0.15223911]\n",
      " [ 0.51927561  0.48072439]\n",
      " [ 0.70200264  0.29799736]\n",
      " [ 0.66026982  0.33973018]\n",
      " [ 0.1783991   0.8216009 ]\n",
      " [ 0.2637802   0.7362198 ]\n",
      " [ 0.45074741  0.54925259]\n",
      " [ 0.24020801  0.75979199]\n",
      " [ 0.31174428  0.68825572]\n",
      " [ 0.50832155  0.49167845]]\n",
      "AUC using predict_proba 0.809917695473\n"
     ]
    }
   ],
   "source": [
    "probas_ = svc.fit(X_train_minmax, y_train).predict_proba(X_test_minmax)\n",
    "fpr, tpr, thresholds = roc_curve(y_test, probas_[:, 1])  # use the probs of (smoke), not of nonsmoking\n",
    "roc_auc = auc(fpr, tpr)\n",
    "print \"thresholds\", thresholds\n",
    "print \"probas_\", probas_\n",
    "print \"AUC using predict_proba\", roc_auc"
   ]
  },
  {
   "cell_type": "markdown",
   "metadata": {
    "deletable": true,
    "editable": true
   },
   "source": [
    "###### Plot ROC curve"
   ]
  },
  {
   "cell_type": "code",
   "execution_count": 18,
   "metadata": {
    "collapsed": true,
    "deletable": true,
    "editable": true
   },
   "outputs": [],
   "source": [
    "%matplotlib inline"
   ]
  },
  {
   "cell_type": "code",
   "execution_count": 21,
   "metadata": {
    "collapsed": false,
    "deletable": true,
    "editable": true
   },
   "outputs": [
    {
     "data": {
      "image/png": "[encoded data removed]",
      "text/plain": [
       "<matplotlib.figure.Figure at 0x9f235f0>"
      ]
     },
     "metadata": {},
     "output_type": "display_data"
    }
   ],
   "source": [
    "plt.figure()\n",
    "#plt.plot(fpr, tpr, label='ROC curve (area = %0.2f)' % roc_auc, lw=4 ) # plot ROC curve, no marker\n",
    "plt.plot(fpr, tpr, label='ROC curve (area = %0.2f)' % roc_auc, lw=3, color =\"#0000ff\", marker='s',markerfacecolor=\"red\", markersize=2) \n",
    "plt.plot([0, 1], [0, 1], 'k--') # also plot black dashed line (k=black) from (0,0) to (1,1)\n",
    "\n",
    "# Set x and y ranges, labels, title and legend\n",
    "plt.xlim([-0.005, 1.0])  #x range basically from 0 to 1: start range a bit to left of min x value to see thick line better\n",
    "plt.ylim([0.0, 1.005])   #0 range basically from 0 to 1: extend range a bit above max y value to see thick line better\n",
    "plt.xlabel('False Positive Rate')\n",
    "plt.ylabel('True Positive Rate')\n",
    "plt.title('Receiver operating characteristic example')\n",
    "plt.legend(loc=\"lower right\")\n",
    "plt.show()"
   ]
  },
  {
   "cell_type": "markdown",
   "metadata": {
    "deletable": true,
    "editable": true
   },
   "source": [
    "###### Parameter Turning"
   ]
  },
  {
   "cell_type": "code",
   "execution_count": 20,
   "metadata": {
    "collapsed": false,
    "deletable": true,
    "editable": true
   },
   "outputs": [
    {
     "name": "stdout",
     "output_type": "stream",
     "text": [
      "[ 0.29411765  0.42207792  0.4         0.42718447  0.18407534  0.06666667]\n",
      "[0.01, 0.1, 1, 'auto', 10, 100]\n"
     ]
    },
    {
     "data": {
      "text/plain": [
       "{'C': array([  1.00000000e-02,   1.00000000e-01,   1.00000000e+00,\n",
       "          1.00000000e+01,   1.00000000e+02,   1.00000000e+03]),\n",
       " 'gamma': [0.01, 0.1, 1, 'auto', 10, 100]}"
      ]
     },
     "execution_count": 20,
     "metadata": {},
     "output_type": "execute_result"
    }
   ],
   "source": [
    "C_range = 10.0 ** np.arange(-2, 4)\n",
    "#gamma_range = 10.0 ** np.arange(-3, 3)\n",
    "# g = 1/float((len(X_train_minmax[0])))\n",
    "#print g\n",
    "print X_train_minmax[0]\n",
    "gamma_range = [.01, .1, 1, 'auto', 10, 100]\n",
    "print gamma_range\n",
    "param_grid = dict(gamma=gamma_range, C=C_range)\n",
    "param_grid"
   ]
  },
  {
   "cell_type": "code",
   "execution_count": 22,
   "metadata": {
    "collapsed": false,
    "deletable": true,
    "editable": true
   },
   "outputs": [
    {
     "name": "stdout",
     "output_type": "stream",
     "text": [
      "The best C and gamma for rbf is: 100.00000, 0.10000 \n"
     ]
    },
    {
     "data": {
      "text/plain": [
       "SVC(C=100.0, cache_size=1000, class_weight=None, coef0=0.0,\n",
       "  decision_function_shape=None, degree=3, gamma=0.1, kernel='rbf',\n",
       "  max_iter=-1, probability=True, random_state=None, shrinking=True,\n",
       "  tol=0.001, verbose=False)"
      ]
     },
     "execution_count": 22,
     "metadata": {},
     "output_type": "execute_result"
    }
   ],
   "source": [
    "# Default is 3-fold cross validation\n",
    "grid = GridSearchCV(SVC(kernel='rbf',cache_size=1000, probability=True), param_grid=param_grid) \n",
    "#grid = GridSearchCV(SVC(kernel='rbf', class_weight='balanced', cache_size=1000, probability=True), param_grid=param_grid) \n",
    "grid.fit(X_train_minmax, y_train)# run the grid search on the training data only\n",
    "best_C = grid.best_estimator_.C\n",
    "best_gamma = grid.best_estimator_.gamma\n",
    "print \"The best C and gamma for rbf is: %.5f, %.5f \" % (best_C, best_gamma)\n",
    "grid.best_estimator_"
   ]
  },
  {
   "cell_type": "code",
   "execution_count": 23,
   "metadata": {
    "collapsed": false,
    "deletable": true,
    "editable": true
   },
   "outputs": [
    {
     "name": "stdout",
     "output_type": "stream",
     "text": [
      "Prediction accuracy:  0.748917748918\n",
      "[[133  17]\n",
      " [ 41  40]]\n",
      "             precision    recall  f1-score   support\n",
      "\n",
      "          0       0.76      0.89      0.82       150\n",
      "          1       0.70      0.49      0.58        81\n",
      "\n",
      "avg / total       0.74      0.75      0.74       231\n",
      "\n"
     ]
    }
   ],
   "source": [
    "best_predict_minmax = grid.best_estimator_.predict(X_test_minmax)\n",
    "pTot = accuracy_score(y_test, best_predict_minmax)\n",
    "print \"Prediction accuracy: \",pTot\n",
    "cm = confusion_matrix(y_test, best_predict_minmax)\n",
    "print cm\n",
    "report = classification_report(y_test, best_predict_minmax)\n",
    "print report #for each class prints: precision  recall  f1-score   support"
   ]
  },
  {
   "cell_type": "code",
   "execution_count": 24,
   "metadata": {
    "collapsed": false,
    "deletable": true,
    "editable": true
   },
   "outputs": [
    {
     "name": "stdout",
     "output_type": "stream",
     "text": [
      "Prediction accuracy:  0.757575757576\n"
     ]
    }
   ],
   "source": [
    "test_svc = SVC(C=100, gamma='auto',kernel='rbf', cache_size=1000, probability=True) \n",
    "clf_test = test_svc.fit(X_train_minmax, y_train) # trains the classifier on the training set\n",
    "y_pred_minmax_test = test_svc.predict(X_test_minmax) # tests the classifier on the test set\n",
    "pTot = accuracy_score(y_test, y_pred_minmax_test)\n",
    "print \"Prediction accuracy: \",pTot"
   ]
  },
  {
   "cell_type": "code",
   "execution_count": 25,
   "metadata": {
    "collapsed": false,
    "deletable": true,
    "editable": true
   },
   "outputs": [
    {
     "name": "stdout",
     "output_type": "stream",
     "text": [
      "[[133  17]\n",
      " [ 39  42]]\n",
      "             precision    recall  f1-score   support\n",
      "\n",
      "          0       0.77      0.89      0.83       150\n",
      "          1       0.71      0.52      0.60        81\n",
      "\n",
      "avg / total       0.75      0.76      0.75       231\n",
      "\n"
     ]
    }
   ],
   "source": [
    "cm = confusion_matrix(y_test, y_pred_minmax_test)\n",
    "print cm\n",
    "report = classification_report(y_test, y_pred_minmax_test)\n",
    "print report #for each class prints: precision  recall  f1-score   support"
   ]
  },
  {
   "cell_type": "code",
   "execution_count": 26,
   "metadata": {
    "collapsed": false,
    "deletable": true,
    "editable": true
   },
   "outputs": [
    {
     "name": "stdout",
     "output_type": "stream",
     "text": [
      "AUC using predict_proba 0.809958847737\n"
     ]
    }
   ],
   "source": [
    "probas_ = svc.fit(X_train_minmax, y_train).predict_proba(X_test_minmax)\n",
    "fpr, tpr, thresholds = roc_curve(y_test, probas_[:, 1])  # use the probs of (smoke), not of nonsmoking\n",
    "roc_auc = auc(fpr, tpr)\n",
    "print \"AUC using predict_proba\", roc_auc"
   ]
  },
  {
   "cell_type": "markdown",
   "metadata": {
    "deletable": true,
    "editable": true
   },
   "source": [
    "###### Polynomial"
   ]
  },
  {
   "cell_type": "code",
   "execution_count": 30,
   "metadata": {
    "collapsed": false,
    "deletable": true,
    "editable": true
   },
   "outputs": [
    {
     "name": "stdout",
     "output_type": "stream",
     "text": [
      "SVC(C=1.0, cache_size=1000, class_weight='balanced', coef0=0.0,\n",
      "  decision_function_shape=None, degree=2, gamma='auto', kernel='poly',\n",
      "  max_iter=-1, probability=True, random_state=None, shrinking=True,\n",
      "  tol=0.001, verbose=False)\n",
      "Prediction accuracy:  0.714285714286\n"
     ]
    }
   ],
   "source": [
    "svc = SVC(kernel='poly', C=1.0, degree=2, class_weight='balanced', cache_size=1000, probability=True) # instantiates a SVM classifier\n",
    "#svc = SVC(kernel='rbf', cache_size=1000, probability=True) \n",
    "print svc\n",
    "clf = svc.fit(X_train, y_train) # trains the classifier on the training set\n",
    "y_pred = svc.predict(X_test) # tests the classifier on the test set\n",
    "pTot = accuracy_score(y_test, y_pred)\n",
    "print \"Prediction accuracy: \",pTot"
   ]
  },
  {
   "cell_type": "code",
   "execution_count": 31,
   "metadata": {
    "collapsed": false,
    "deletable": true,
    "editable": true
   },
   "outputs": [
    {
     "name": "stdout",
     "output_type": "stream",
     "text": [
      "SVC(C=100, cache_size=1000, class_weight='balanced', coef0=0.0,\n",
      "  decision_function_shape=None, degree=2, gamma='auto', kernel='poly',\n",
      "  max_iter=-1, probability=True, random_state=None, shrinking=True,\n",
      "  tol=0.001, verbose=False)\n",
      "Prediction accuracy:  0.748917748918\n"
     ]
    }
   ],
   "source": [
    "svc = SVC(kernel='poly', C=100, degree=2, class_weight='balanced', cache_size=1000, probability=True) \n",
    "#svc = SVC(kernel='rbf', cache_size=1000, probability=True) \n",
    "print svc\n",
    "clf = svc.fit(X_train_minmax, y_train) # trains the classifier on the training set\n",
    "y_pred_minmax = svc.predict(X_test_minmax) # tests the classifier on the test set\n",
    "pTot = accuracy_score(y_test, y_pred_minmax)\n",
    "print \"Prediction accuracy: \",pTot"
   ]
  },
  {
   "cell_type": "code",
   "execution_count": 32,
   "metadata": {
    "collapsed": false,
    "deletable": true,
    "editable": true
   },
   "outputs": [
    {
     "data": {
      "text/plain": [
       "array([[109,  41],\n",
       "       [ 25,  56]])"
      ]
     },
     "execution_count": 32,
     "metadata": {},
     "output_type": "execute_result"
    }
   ],
   "source": [
    "cm = confusion_matrix(y_test, y_pred)\n",
    "cm"
   ]
  },
  {
   "cell_type": "code",
   "execution_count": 33,
   "metadata": {
    "collapsed": false,
    "deletable": true,
    "editable": true
   },
   "outputs": [
    {
     "name": "stdout",
     "output_type": "stream",
     "text": [
      "             precision    recall  f1-score   support\n",
      "\n",
      "          0       0.81      0.73      0.77       150\n",
      "          1       0.58      0.69      0.63        81\n",
      "\n",
      "avg / total       0.73      0.71      0.72       231\n",
      "\n"
     ]
    }
   ],
   "source": [
    "report = classification_report(y_test, y_pred)\n",
    "print report #for each class prints: precision  recall  f1-score   support"
   ]
  },
  {
   "cell_type": "code",
   "execution_count": 34,
   "metadata": {
    "collapsed": false,
    "deletable": true,
    "editable": true
   },
   "outputs": [
    {
     "name": "stdout",
     "output_type": "stream",
     "text": [
      "thresholds [ 1.99135443  0.99135443  0.9905432   0.98765807  0.8227271   0.8127977\n",
      "  0.77996231  0.7738369   0.77154385  0.76446606  0.72496745  0.70485981\n",
      "  0.63379637  0.63227592  0.59275997  0.59038772  0.55663204  0.5074296\n",
      "  0.49253724  0.49141718  0.47842172  0.45293404  0.41003987  0.40080673\n",
      "  0.4003888   0.3838341   0.34730534  0.34373739  0.34340274  0.33798603\n",
      "  0.33409983  0.3297669   0.32775169  0.32036877  0.31567608  0.30967843\n",
      "  0.29973855  0.29647585  0.29076997  0.28967116  0.28125879  0.27571698\n",
      "  0.26683913  0.2668341   0.26553406  0.25727671  0.2518      0.23336541\n",
      "  0.22957317  0.22746548  0.22503624  0.20549175  0.20304918  0.1943516\n",
      "  0.19328708  0.18648725  0.18442457  0.17471294  0.17424159  0.16680765\n",
      "  0.16065167  0.15638951  0.15599372  0.14540021  0.14437374  0.1260696\n",
      "  0.12245935  0.0876928   0.08749669  0.08338996  0.0831034   0.02833538]\n",
      "probas_ [[ 0.80671292  0.19328708]\n",
      " [ 0.23456688  0.76543312]\n",
      " [ 0.74272329  0.25727671]\n",
      " [ 0.92923837  0.07076163]\n",
      " [ 0.86183453  0.13816547]\n",
      " [ 0.85562626  0.14437374]\n",
      " [ 0.01234193  0.98765807]\n",
      " [ 0.6161659   0.3838341 ]\n",
      " [ 0.63234876  0.36765124]\n",
      " [ 0.86962264  0.13037736]\n",
      " [ 0.81557543  0.18442457]\n",
      " [ 0.26866064  0.73133936]\n",
      " [ 0.9077412   0.0922588 ]\n",
      " [ 0.57941394  0.42058606]\n",
      " [ 0.93308116  0.06691884]\n",
      " [ 0.89439471  0.10560529]\n",
      " [ 0.84361049  0.15638951]\n",
      " [ 0.87291728  0.12708272]\n",
      " [ 0.70026145  0.29973855]\n",
      " [ 0.91418461  0.08581539]\n",
      " [ 0.57531627  0.42468373]\n",
      " [ 0.73810927  0.26189073]\n",
      " [ 0.71874121  0.28125879]\n",
      " [ 0.07964828  0.92035172]\n",
      " [ 0.2129643   0.7870357 ]\n",
      " [ 0.1520009   0.8479991 ]\n",
      " [ 0.68412482  0.31587518]\n",
      " [ 0.6702331   0.3297669 ]\n",
      " [ 0.36620363  0.63379637]\n",
      " [ 0.5427392   0.4572608 ]\n",
      " [ 0.47838113  0.52161887]\n",
      " [ 0.27825034  0.72174966]\n",
      " [ 0.29822663  0.70177337]\n",
      " [ 0.84508892  0.15491108]\n",
      " [ 0.93369338  0.06630662]\n",
      " [ 0.97166462  0.02833538]\n",
      " [ 0.22845615  0.77154385]\n",
      " [ 0.92802071  0.07197929]\n",
      " [ 0.83261897  0.16738103]\n",
      " [ 0.78166598  0.21833402]\n",
      " [ 0.87280255  0.12719745]\n",
      " [ 0.89754284  0.10245716]\n",
      " [ 0.63298394  0.36701606]\n",
      " [ 0.23553394  0.76446606]\n",
      " [ 0.88583952  0.11416048]\n",
      " [ 0.81052516  0.18947484]\n",
      " [ 0.55185368  0.44814632]\n",
      " [ 0.50746276  0.49253724]\n",
      " [ 0.18346424  0.81653576]\n",
      " [ 0.91250331  0.08749669]\n",
      " [ 0.05040869  0.94959131]\n",
      " [ 0.83319235  0.16680765]\n",
      " [ 0.44336796  0.55663204]\n",
      " [ 0.79934022  0.20065978]\n",
      " [ 0.86044873  0.13955127]\n",
      " [ 0.25865919  0.74134081]\n",
      " [ 0.84400628  0.15599372]\n",
      " [ 0.88957349  0.11042651]\n",
      " [ 0.77253452  0.22746548]\n",
      " [ 0.71032884  0.28967116]\n",
      " [ 0.22003769  0.77996231]\n",
      " [ 0.32988849  0.67011151]\n",
      " [ 0.67989885  0.32010115]\n",
      " [ 0.27503255  0.72496745]\n",
      " [ 0.67657767  0.32342233]\n",
      " [ 0.75551778  0.24448222]\n",
      " [ 0.85014932  0.14985068]\n",
      " [ 0.29301216  0.70698784]\n",
      " [ 0.86283877  0.13716123]\n",
      " [ 0.06403534  0.93596466]\n",
      " [ 0.60078493  0.39921507]\n",
      " [ 0.84038636  0.15961364]\n",
      " [ 0.65306149  0.34693851]\n",
      " [ 0.50858282  0.49141718]\n",
      " [ 0.69032157  0.30967843]\n",
      " [ 0.87754065  0.12245935]\n",
      " [ 0.77137992  0.22862008]\n",
      " [ 0.92720494  0.07279506]\n",
      " [ 0.93859159  0.06140841]\n",
      " [ 0.4925704   0.5074296 ]\n",
      " [ 0.94027572  0.05972428]\n",
      " [ 0.88751837  0.11248163]\n",
      " [ 0.87231305  0.12768695]\n",
      " [ 0.76419952  0.23580048]\n",
      " [ 0.72428302  0.27571698]\n",
      " [ 0.84845764  0.15154236]\n",
      " [ 0.29514019  0.70485981]\n",
      " [ 0.90340495  0.09659505]\n",
      " [ 0.08712865  0.91287135]\n",
      " [ 0.76663459  0.23336541]\n",
      " [ 0.66590017  0.33409983]\n",
      " [ 0.89310426  0.10689574]\n",
      " [ 0.78429909  0.21570091]\n",
      " [ 0.70923003  0.29076997]\n",
      " [ 0.45796339  0.54203661]\n",
      " [ 0.9204968   0.0795032 ]\n",
      " [ 0.76507442  0.23492558]\n",
      " [ 0.54706596  0.45293404]\n",
      " [ 0.77918751  0.22081249]\n",
      " [ 0.73697057  0.26302943]\n",
      " [ 0.24250013  0.75749987]\n",
      " [ 0.84028907  0.15971093]\n",
      " [ 0.65626261  0.34373739]\n",
      " [ 0.82227224  0.17772776]\n",
      " [ 0.91661004  0.08338996]\n",
      " [ 0.69143725  0.30856275]\n",
      " [ 0.88169838  0.11830162]\n",
      " [ 0.40566764  0.59433236]\n",
      " [ 0.93512009  0.06487991]\n",
      " [ 0.85459979  0.14540021]\n",
      " [ 0.88676828  0.11323172]\n",
      " [ 0.68878936  0.31121064]\n",
      " [ 0.85114693  0.14885307]\n",
      " [ 0.84739034  0.15260966]\n",
      " [ 0.90959958  0.09040042]\n",
      " [ 0.83934833  0.16065167]\n",
      " [ 0.58996013  0.41003987]\n",
      " [ 0.53946714  0.46053286]\n",
      " [ 0.90863694  0.09136306]\n",
      " [ 0.81031698  0.18968302]\n",
      " [ 0.04124184  0.95875816]\n",
      " [ 0.26678221  0.73321779]\n",
      " [ 0.6668574   0.3331426 ]\n",
      " [ 0.77042683  0.22957317]\n",
      " [ 0.17582041  0.82417959]\n",
      " [ 0.77190215  0.22809785]\n",
      " [ 0.94733377  0.05266623]\n",
      " [ 0.88665098  0.11334902]\n",
      " [ 0.93738494  0.06261506]\n",
      " [ 0.72067179  0.27932821]\n",
      " [ 0.52157828  0.47842172]\n",
      " [ 0.88581302  0.11418698]\n",
      " [ 0.9168966   0.0831034 ]\n",
      " [ 0.70513412  0.29486588]\n",
      " [ 0.34257489  0.65742511]\n",
      " [ 0.01766272  0.98233728]\n",
      " [ 0.90092755  0.09907245]\n",
      " [ 0.81610475  0.18389525]\n",
      " [ 0.82528706  0.17471294]\n",
      " [ 0.7677666   0.2322334 ]\n",
      " [ 0.73316087  0.26683913]\n",
      " [ 0.8739304   0.1260696 ]\n",
      " [ 0.9123072   0.0876928 ]\n",
      " [ 0.93385782  0.06614218]\n",
      " [ 0.82608585  0.17391415]\n",
      " [ 0.39313492  0.60686508]\n",
      " [ 0.77019239  0.22980761]\n",
      " [ 0.92328098  0.07671902]\n",
      " [ 0.88949586  0.11050414]\n",
      " [ 0.37734032  0.62265968]\n",
      " [ 0.1872023   0.8127977 ]\n",
      " [ 0.40961228  0.59038772]\n",
      " [ 0.7482      0.2518    ]\n",
      " [ 0.93632789  0.06367211]\n",
      " [ 0.87101923  0.12898077]\n",
      " [ 0.79695082  0.20304918]\n",
      " [ 0.5996112   0.4003888 ]\n",
      " [ 0.65659726  0.34340274]\n",
      " [ 0.93370352  0.06629648]\n",
      " [ 0.90302747  0.09697253]\n",
      " [ 0.90484256  0.09515744]\n",
      " [ 0.9084752   0.0915248 ]\n",
      " [ 0.64499001  0.35500999]\n",
      " [ 0.17349397  0.82650603]\n",
      " [ 0.65269466  0.34730534]\n",
      " [ 0.94410646  0.05589354]\n",
      " [ 0.56286743  0.43713257]\n",
      " [ 0.20593496  0.79406504]\n",
      " [ 0.91314477  0.08685523]\n",
      " [ 0.82931194  0.17068806]\n",
      " [ 0.88682977  0.11317023]\n",
      " [ 0.8056484   0.1943516 ]\n",
      " [ 0.88312543  0.11687457]\n",
      " [ 0.56949738  0.43050262]\n",
      " [ 0.73446594  0.26553406]\n",
      " [ 0.92807921  0.07192079]\n",
      " [ 0.76065723  0.23934277]\n",
      " [ 0.87886219  0.12113781]\n",
      " [ 0.40724003  0.59275997]\n",
      " [ 0.927044    0.072956  ]\n",
      " [ 0.79450825  0.20549175]\n",
      " [ 0.92767848  0.07232152]\n",
      " [ 0.66201397  0.33798603]\n",
      " [ 0.05274174  0.94725826]\n",
      " [ 0.89448806  0.10551194]\n",
      " [ 0.83006879  0.16993121]\n",
      " [ 0.61299946  0.38700054]\n",
      " [ 0.04510107  0.95489893]\n",
      " [ 0.91023944  0.08976056]\n",
      " [ 0.96144244  0.03855756]\n",
      " [ 0.81351275  0.18648725]\n",
      " [ 0.3290949   0.6709051 ]\n",
      " [ 0.92931355  0.07068645]\n",
      " [ 0.89888708  0.10111292]\n",
      " [ 0.91030459  0.08969541]\n",
      " [ 0.77496376  0.22503624]\n",
      " [ 0.87933977  0.12066023]\n",
      " [ 0.53930307  0.46069693]\n",
      " [ 0.70352415  0.29647585]\n",
      " [ 0.8668858   0.1331142 ]\n",
      " [ 0.90385998  0.09614002]\n",
      " [ 0.6853147   0.3146853 ]\n",
      " [ 0.60386603  0.39613397]\n",
      " [ 0.68432392  0.31567608]\n",
      " [ 0.59919327  0.40080673]\n",
      " [ 0.18994137  0.81005863]\n",
      " [ 0.88898768  0.11101232]\n",
      " [ 0.63002002  0.36997998]\n",
      " [ 0.82575841  0.17424159]\n",
      " [ 0.93734057  0.06265943]\n",
      " [ 0.02797204  0.97202796]\n",
      " [ 0.41406815  0.58593185]\n",
      " [ 0.90846925  0.09153075]\n",
      " [ 0.79137659  0.20862341]\n",
      " [ 0.67224831  0.32775169]\n",
      " [ 0.00864557  0.99135443]\n",
      " [ 0.79565933  0.20434067]\n",
      " [ 0.0094568   0.9905432 ]\n",
      " [ 0.60994459  0.39005541]\n",
      " [ 0.90166011  0.09833989]\n",
      " [ 0.84771907  0.15228093]\n",
      " [ 0.85775394  0.14224606]\n",
      " [ 0.7331659   0.2668341 ]\n",
      " [ 0.70751876  0.29248124]\n",
      " [ 0.67963123  0.32036877]\n",
      " [ 0.0909227   0.9090773 ]\n",
      " [ 0.2261631   0.7738369 ]\n",
      " [ 0.36772408  0.63227592]\n",
      " [ 0.1772729   0.8227271 ]\n",
      " [ 0.24396877  0.75603123]\n",
      " [ 0.53478734  0.46521266]]\n",
      "AUC using predict_proba 0.823127572016\n"
     ]
    }
   ],
   "source": [
    "probas_ = svc.fit(X_train_minmax, y_train).predict_proba(X_test_minmax)\n",
    "fpr, tpr, thresholds = roc_curve(y_test, probas_[:, 1])  # use the probs of (smoke), not of nonsmoking\n",
    "roc_auc = auc(fpr, tpr)\n",
    "print \"thresholds\", thresholds\n",
    "print \"probas_\", probas_\n",
    "print \"AUC using predict_proba\", roc_auc"
   ]
  },
  {
   "cell_type": "markdown",
   "metadata": {
    "deletable": true,
    "editable": true
   },
   "source": [
    "###### Plot ROC curve"
   ]
  },
  {
   "cell_type": "code",
   "execution_count": 35,
   "metadata": {
    "collapsed": true,
    "deletable": true,
    "editable": true
   },
   "outputs": [],
   "source": [
    "%matplotlib inline"
   ]
  },
  {
   "cell_type": "code",
   "execution_count": 36,
   "metadata": {
    "collapsed": false,
    "deletable": true,
    "editable": true
   },
   "outputs": [
    {
     "data": {
      "image/png": "[encoded data removed]",
      "text/plain": [
       "<matplotlib.figure.Figure at 0xa048290>"
      ]
     },
     "metadata": {},
     "output_type": "display_data"
    }
   ],
   "source": [
    "plt.figure()\n",
    "#plt.plot(fpr, tpr, label='ROC curve (area = %0.2f)' % roc_auc, lw=4 ) # plot ROC curve, no marker\n",
    "plt.plot(fpr, tpr, label='ROC curve (area = %0.2f)' % roc_auc, lw=3, color =\"#0000ff\", marker='s',markerfacecolor=\"red\", markersize=2) \n",
    "plt.plot([0, 1], [0, 1], 'k--') # also plot black dashed line (k=black) from (0,0) to (1,1)\n",
    "\n",
    "# Set x and y ranges, labels, title and legend\n",
    "plt.xlim([-0.005, 1.0])  #x range basically from 0 to 1: start range a bit to left of min x value to see thick line better\n",
    "plt.ylim([0.0, 1.005])   #0 range basically from 0 to 1: extend range a bit above max y value to see thick line better\n",
    "plt.xlabel('False Positive Rate')\n",
    "plt.ylabel('True Positive Rate')\n",
    "plt.title('Receiver operating characteristic example')\n",
    "plt.legend(loc=\"lower right\")\n",
    "plt.show()"
   ]
  },
  {
   "cell_type": "markdown",
   "metadata": {
    "deletable": true,
    "editable": true
   },
   "source": [
    "###### Parameter Turning"
   ]
  },
  {
   "cell_type": "code",
   "execution_count": 38,
   "metadata": {
    "collapsed": false,
    "deletable": true,
    "editable": true
   },
   "outputs": [
    {
     "name": "stdout",
     "output_type": "stream",
     "text": [
      "[ 0.29411765  0.42207792  0.4         0.42718447  0.18407534  0.06666667]\n",
      "[0.01, 0.1, 1, 'auto', 10, 100]\n"
     ]
    },
    {
     "data": {
      "text/plain": [
       "{'C': array([  1.00000000e-02,   1.00000000e-01,   1.00000000e+00,\n",
       "          1.00000000e+01,   1.00000000e+02,   1.00000000e+03]),\n",
       " 'gamma': [0.01, 0.1, 1, 'auto', 10, 100]}"
      ]
     },
     "execution_count": 38,
     "metadata": {},
     "output_type": "execute_result"
    }
   ],
   "source": [
    "C_range = 10.0 ** np.arange(-2, 4)\n",
    "#gamma_range = 10.0 ** np.arange(-3, 3)\n",
    "# g = 1/float((len(X_train_minmax[0])))\n",
    "#print g\n",
    "print X_train_minmax[0]\n",
    "gamma_range = [.01, .1, 1, 'auto', 10, 100]\n",
    "print gamma_range\n",
    "param_grid = dict(gamma=gamma_range, C=C_range)\n",
    "param_grid"
   ]
  },
  {
   "cell_type": "code",
   "execution_count": 39,
   "metadata": {
    "collapsed": false,
    "deletable": true,
    "editable": true
   },
   "outputs": [
    {
     "name": "stdout",
     "output_type": "stream",
     "text": [
      "Prediction accuracy:  0.748917748918\n",
      "[[133  17]\n",
      " [ 41  40]]\n",
      "             precision    recall  f1-score   support\n",
      "\n",
      "          0       0.76      0.89      0.82       150\n",
      "          1       0.70      0.49      0.58        81\n",
      "\n",
      "avg / total       0.74      0.75      0.74       231\n",
      "\n"
     ]
    }
   ],
   "source": [
    "best_predict_minmax = grid.best_estimator_.predict(X_test_minmax)\n",
    "pTot = accuracy_score(y_test, best_predict_minmax)\n",
    "print \"Prediction accuracy: \",pTot\n",
    "cm = confusion_matrix(y_test, best_predict_minmax)\n",
    "print cm\n",
    "report = classification_report(y_test, best_predict_minmax)\n",
    "print report #for each class prints: precision  recall  f1-score   support"
   ]
  },
  {
   "cell_type": "code",
   "execution_count": 40,
   "metadata": {
    "collapsed": false,
    "deletable": true,
    "editable": true
   },
   "outputs": [
    {
     "name": "stdout",
     "output_type": "stream",
     "text": [
      "Prediction accuracy:  0.757575757576\n"
     ]
    }
   ],
   "source": [
    "test_svc = SVC(C=100, gamma='auto',kernel='rbf', cache_size=1000, probability=True) \n",
    "clf_test = test_svc.fit(X_train_minmax, y_train) # trains the classifier on the training set\n",
    "y_pred_minmax_test = test_svc.predict(X_test_minmax) # tests the classifier on the test set\n",
    "pTot = accuracy_score(y_test, y_pred_minmax_test)\n",
    "print \"Prediction accuracy: \",pTot"
   ]
  },
  {
   "cell_type": "code",
   "execution_count": 41,
   "metadata": {
    "collapsed": false,
    "deletable": true,
    "editable": true
   },
   "outputs": [
    {
     "name": "stdout",
     "output_type": "stream",
     "text": [
      "[[133  17]\n",
      " [ 39  42]]\n",
      "             precision    recall  f1-score   support\n",
      "\n",
      "          0       0.77      0.89      0.83       150\n",
      "          1       0.71      0.52      0.60        81\n",
      "\n",
      "avg / total       0.75      0.76      0.75       231\n",
      "\n"
     ]
    }
   ],
   "source": [
    "cm = confusion_matrix(y_test, y_pred_minmax_test)\n",
    "print cm\n",
    "report = classification_report(y_test, y_pred_minmax_test)\n",
    "print report #for each class prints: precision  recall  f1-score   support"
   ]
  },
  {
   "cell_type": "code",
   "execution_count": 42,
   "metadata": {
    "collapsed": false,
    "deletable": true,
    "editable": true
   },
   "outputs": [
    {
     "name": "stdout",
     "output_type": "stream",
     "text": [
      "AUC using predict_proba 0.823086419753\n"
     ]
    }
   ],
   "source": [
    "probas_ = svc.fit(X_train_minmax, y_train).predict_proba(X_test_minmax)\n",
    "fpr, tpr, thresholds = roc_curve(y_test, probas_[:, 1])  # use the probs of (smoke), not of nonsmoking\n",
    "roc_auc = auc(fpr, tpr)\n",
    "print \"AUC using predict_proba\", roc_auc"
   ]
  }
 ],
 "metadata": {
  "kernelspec": {
   "display_name": "Python 2",
   "language": "python",
   "name": "python2"
  },
  "language_info": {
   "codemirror_mode": {
    "name": "ipython",
    "version": 2
   },
   "file_extension": ".py",
   "mimetype": "text/x-python",
   "name": "python",
   "nbconvert_exporter": "python",
   "pygments_lexer": "ipython2",
   "version": "2.7.13"
  }
 },
 "nbformat": 4,
 "nbformat_minor": 2
}
